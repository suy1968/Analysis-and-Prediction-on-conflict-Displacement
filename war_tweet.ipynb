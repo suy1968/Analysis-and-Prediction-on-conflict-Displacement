{
 "cells": [
  {
   "cell_type": "markdown",
   "metadata": {},
   "source": [
    "Russia Versus Ukraine - Tweets Sentiments Exploratory Data Analysis using Python.\n",
    "\n",
    "1. The dataset collects tweets regarding Russia and Ukraine from 21st February till date.\n",
    "2. An Exploratory Data Analysis is performed from twitter data over Russia and Ukraine war.\n",
    "3. Categorized the tweets into positive, negative an neutral sentiments.\n"
   ]
  },
  {
   "cell_type": "code",
   "execution_count": 1,
   "metadata": {},
   "outputs": [
    {
     "name": "stderr",
     "output_type": "stream",
     "text": [
      "[nltk_data] Downloading package stopwords to\n",
      "[nltk_data]     C:\\Users\\Admin\\AppData\\Roaming\\nltk_data...\n",
      "[nltk_data]   Unzipping corpora\\stopwords.zip.\n"
     ]
    }
   ],
   "source": [
    "import numpy as np\n",
    "import pandas as pd\n",
    "import matplotlib.pyplot as plt\n",
    "import string\n",
    "import re\n",
    "import nltk\n",
    "from nltk.util import pr\n",
    "from nltk.corpus import stopwords\n",
    "import warnings\n",
    "warnings.filterwarnings('ignore')\n",
    "stemmer = nltk.SnowballStemmer(\"english\")\n",
    "nltk.download('stopwords')\n",
    "stopword=set(stopwords.words('english'))"
   ]
  },
  {
   "cell_type": "code",
   "execution_count": 2,
   "metadata": {},
   "outputs": [],
   "source": [
    "df = pd.read_csv(r'C:\\Users\\Admin\\Downloads\\war_tweets.xls - war_tweets.csv')"
   ]
  },
  {
   "cell_type": "code",
   "execution_count": 3,
   "metadata": {},
   "outputs": [
    {
     "data": {
      "text/html": [
       "<div>\n",
       "<style scoped>\n",
       "    .dataframe tbody tr th:only-of-type {\n",
       "        vertical-align: middle;\n",
       "    }\n",
       "\n",
       "    .dataframe tbody tr th {\n",
       "        vertical-align: top;\n",
       "    }\n",
       "\n",
       "    .dataframe thead th {\n",
       "        text-align: right;\n",
       "    }\n",
       "</style>\n",
       "<table border=\"1\" class=\"dataframe\">\n",
       "  <thead>\n",
       "    <tr style=\"text-align: right;\">\n",
       "      <th></th>\n",
       "      <th>id</th>\n",
       "      <th>conversation_id</th>\n",
       "      <th>created_at</th>\n",
       "      <th>date</th>\n",
       "      <th>time</th>\n",
       "      <th>timezone</th>\n",
       "      <th>user_id</th>\n",
       "      <th>username</th>\n",
       "      <th>name</th>\n",
       "      <th>place</th>\n",
       "      <th>...</th>\n",
       "      <th>geo</th>\n",
       "      <th>source</th>\n",
       "      <th>user_rt_id</th>\n",
       "      <th>user_rt</th>\n",
       "      <th>retweet_id</th>\n",
       "      <th>reply_to</th>\n",
       "      <th>retweet_date</th>\n",
       "      <th>translate</th>\n",
       "      <th>trans_src</th>\n",
       "      <th>trans_dest</th>\n",
       "    </tr>\n",
       "  </thead>\n",
       "  <tbody>\n",
       "    <tr>\n",
       "      <th>0</th>\n",
       "      <td>1.50433E+18</td>\n",
       "      <td>1.50408E+18</td>\n",
       "      <td>2022-03-17 05:15:51 UTC</td>\n",
       "      <td>17/3/2022</td>\n",
       "      <td>5:15:51</td>\n",
       "      <td>0</td>\n",
       "      <td>1016938400</td>\n",
       "      <td>bowtiedbeyonce</td>\n",
       "      <td>Michael John</td>\n",
       "      <td>NaN</td>\n",
       "      <td>...</td>\n",
       "      <td>NaN</td>\n",
       "      <td>NaN</td>\n",
       "      <td>NaN</td>\n",
       "      <td>NaN</td>\n",
       "      <td>NaN</td>\n",
       "      <td>[{'screen_name': 'PeterSchiff', 'name': 'Peter...</td>\n",
       "      <td>NaN</td>\n",
       "      <td>NaN</td>\n",
       "      <td>NaN</td>\n",
       "      <td>NaN</td>\n",
       "    </tr>\n",
       "    <tr>\n",
       "      <th>1</th>\n",
       "      <td>1.50433E+18</td>\n",
       "      <td>1.50432E+18</td>\n",
       "      <td>2022-03-17 05:15:51 UTC</td>\n",
       "      <td>17/3/2022</td>\n",
       "      <td>5:15:51</td>\n",
       "      <td>0</td>\n",
       "      <td>1.42023E+18</td>\n",
       "      <td>theshydoomer</td>\n",
       "      <td>THE SHY DOOMER ðŸ‡ºðŸ‡¦</td>\n",
       "      <td>NaN</td>\n",
       "      <td>...</td>\n",
       "      <td>NaN</td>\n",
       "      <td>NaN</td>\n",
       "      <td>NaN</td>\n",
       "      <td>NaN</td>\n",
       "      <td>NaN</td>\n",
       "      <td>[{'screen_name': 'meatballsubzero', 'name': 'Ñ...</td>\n",
       "      <td>NaN</td>\n",
       "      <td>NaN</td>\n",
       "      <td>NaN</td>\n",
       "      <td>NaN</td>\n",
       "    </tr>\n",
       "    <tr>\n",
       "      <th>2</th>\n",
       "      <td>1.50433E+18</td>\n",
       "      <td>1.50433E+18</td>\n",
       "      <td>2022-03-17 05:15:51 UTC</td>\n",
       "      <td>17/3/2022</td>\n",
       "      <td>5:15:51</td>\n",
       "      <td>0</td>\n",
       "      <td>1.38773E+18</td>\n",
       "      <td>rosaort91373426</td>\n",
       "      <td>Rosa Ortiz</td>\n",
       "      <td>NaN</td>\n",
       "      <td>...</td>\n",
       "      <td>NaN</td>\n",
       "      <td>NaN</td>\n",
       "      <td>NaN</td>\n",
       "      <td>NaN</td>\n",
       "      <td>NaN</td>\n",
       "      <td>[]</td>\n",
       "      <td>NaN</td>\n",
       "      <td>NaN</td>\n",
       "      <td>NaN</td>\n",
       "      <td>NaN</td>\n",
       "    </tr>\n",
       "    <tr>\n",
       "      <th>3</th>\n",
       "      <td>1.50433E+18</td>\n",
       "      <td>1.50433E+18</td>\n",
       "      <td>2022-03-17 05:15:50 UTC</td>\n",
       "      <td>17/3/2022</td>\n",
       "      <td>5:15:50</td>\n",
       "      <td>0</td>\n",
       "      <td>54210082</td>\n",
       "      <td>woodsallan</td>\n",
       "      <td>Allan Woods</td>\n",
       "      <td>NaN</td>\n",
       "      <td>...</td>\n",
       "      <td>NaN</td>\n",
       "      <td>NaN</td>\n",
       "      <td>NaN</td>\n",
       "      <td>NaN</td>\n",
       "      <td>NaN</td>\n",
       "      <td>[]</td>\n",
       "      <td>NaN</td>\n",
       "      <td>NaN</td>\n",
       "      <td>NaN</td>\n",
       "      <td>NaN</td>\n",
       "    </tr>\n",
       "    <tr>\n",
       "      <th>4</th>\n",
       "      <td>1.50433E+18</td>\n",
       "      <td>1.50432E+18</td>\n",
       "      <td>2022-03-17 05:15:50 UTC</td>\n",
       "      <td>17/3/2022</td>\n",
       "      <td>5:15:50</td>\n",
       "      <td>0</td>\n",
       "      <td>64328392</td>\n",
       "      <td>artemistweet</td>\n",
       "      <td>Artemis</td>\n",
       "      <td>NaN</td>\n",
       "      <td>...</td>\n",
       "      <td>NaN</td>\n",
       "      <td>NaN</td>\n",
       "      <td>NaN</td>\n",
       "      <td>NaN</td>\n",
       "      <td>NaN</td>\n",
       "      <td>[{'screen_name': 'BW', 'name': 'Businessweek',...</td>\n",
       "      <td>NaN</td>\n",
       "      <td>NaN</td>\n",
       "      <td>NaN</td>\n",
       "      <td>NaN</td>\n",
       "    </tr>\n",
       "  </tbody>\n",
       "</table>\n",
       "<p>5 rows × 36 columns</p>\n",
       "</div>"
      ],
      "text/plain": [
       "            id conversation_id               created_at       date     time  \\\n",
       "0  1.50433E+18     1.50408E+18  2022-03-17 05:15:51 UTC  17/3/2022  5:15:51   \n",
       "1  1.50433E+18     1.50432E+18  2022-03-17 05:15:51 UTC  17/3/2022  5:15:51   \n",
       "2  1.50433E+18     1.50433E+18  2022-03-17 05:15:51 UTC  17/3/2022  5:15:51   \n",
       "3  1.50433E+18     1.50433E+18  2022-03-17 05:15:50 UTC  17/3/2022  5:15:50   \n",
       "4  1.50433E+18     1.50432E+18  2022-03-17 05:15:50 UTC  17/3/2022  5:15:50   \n",
       "\n",
       "  timezone      user_id         username                     name place  ...  \\\n",
       "0        0   1016938400   bowtiedbeyonce             Michael John   NaN  ...   \n",
       "1        0  1.42023E+18     theshydoomer  THE SHY DOOMER ðŸ‡ºðŸ‡¦   NaN  ...   \n",
       "2        0  1.38773E+18  rosaort91373426               Rosa Ortiz   NaN  ...   \n",
       "3        0     54210082       woodsallan              Allan Woods   NaN  ...   \n",
       "4        0     64328392     artemistweet                  Artemis   NaN  ...   \n",
       "\n",
       "   geo source user_rt_id user_rt retweet_id  \\\n",
       "0  NaN    NaN        NaN     NaN        NaN   \n",
       "1  NaN    NaN        NaN     NaN        NaN   \n",
       "2  NaN    NaN        NaN     NaN        NaN   \n",
       "3  NaN    NaN        NaN     NaN        NaN   \n",
       "4  NaN    NaN        NaN     NaN        NaN   \n",
       "\n",
       "                                            reply_to retweet_date translate  \\\n",
       "0  [{'screen_name': 'PeterSchiff', 'name': 'Peter...          NaN       NaN   \n",
       "1  [{'screen_name': 'meatballsubzero', 'name': 'Ñ...          NaN       NaN   \n",
       "2                                                 []          NaN       NaN   \n",
       "3                                                 []          NaN       NaN   \n",
       "4  [{'screen_name': 'BW', 'name': 'Businessweek',...          NaN       NaN   \n",
       "\n",
       "  trans_src trans_dest  \n",
       "0       NaN        NaN  \n",
       "1       NaN        NaN  \n",
       "2       NaN        NaN  \n",
       "3       NaN        NaN  \n",
       "4       NaN        NaN  \n",
       "\n",
       "[5 rows x 36 columns]"
      ]
     },
     "execution_count": 3,
     "metadata": {},
     "output_type": "execute_result"
    }
   ],
   "source": [
    "df.head()"
   ]
  },
  {
   "cell_type": "code",
   "execution_count": 4,
   "metadata": {},
   "outputs": [
    {
     "name": "stdout",
     "output_type": "stream",
     "text": [
      "<class 'pandas.core.frame.DataFrame'>\n",
      "RangeIndex: 10015 entries, 0 to 10014\n",
      "Data columns (total 36 columns):\n",
      " #   Column           Non-Null Count  Dtype \n",
      "---  ------           --------------  ----- \n",
      " 0   id               10015 non-null  object\n",
      " 1   conversation_id  10015 non-null  object\n",
      " 2   created_at       10015 non-null  object\n",
      " 3   date             10015 non-null  object\n",
      " 4   time             10015 non-null  object\n",
      " 5   timezone         10015 non-null  object\n",
      " 6   user_id          10015 non-null  object\n",
      " 7   username         10015 non-null  object\n",
      " 8   name             10015 non-null  object\n",
      " 9   place            2 non-null      object\n",
      " 10  tweet            10015 non-null  object\n",
      " 11  language         10015 non-null  object\n",
      " 12  mentions         10015 non-null  object\n",
      " 13  urls             10015 non-null  object\n",
      " 14  photos           10015 non-null  object\n",
      " 15  replies_count    10015 non-null  object\n",
      " 16  retweets_counts  10015 non-null  object\n",
      " 17  likes_count      10015 non-null  object\n",
      " 18  hashtags         10015 non-null  object\n",
      " 19  cashtags         10015 non-null  object\n",
      " 20  link             10015 non-null  object\n",
      " 21  retweet          10015 non-null  object\n",
      " 22  quote_url        877 non-null    object\n",
      " 23  video            10015 non-null  object\n",
      " 24  thumbnail        937 non-null    object\n",
      " 25  near             1 non-null      object\n",
      " 26  geo              1 non-null      object\n",
      " 27  source           1 non-null      object\n",
      " 28  user_rt_id       1 non-null      object\n",
      " 29  user_rt          1 non-null      object\n",
      " 30  retweet_id       1 non-null      object\n",
      " 31  reply_to         10015 non-null  object\n",
      " 32  retweet_date     1 non-null      object\n",
      " 33  translate        1 non-null      object\n",
      " 34  trans_src        1 non-null      object\n",
      " 35  trans_dest       1 non-null      object\n",
      "dtypes: object(36)\n",
      "memory usage: 2.8+ MB\n"
     ]
    }
   ],
   "source": [
    "df.info()"
   ]
  },
  {
   "cell_type": "code",
   "execution_count": 5,
   "metadata": {},
   "outputs": [
    {
     "data": {
      "text/html": [
       "<div>\n",
       "<style scoped>\n",
       "    .dataframe tbody tr th:only-of-type {\n",
       "        vertical-align: middle;\n",
       "    }\n",
       "\n",
       "    .dataframe tbody tr th {\n",
       "        vertical-align: top;\n",
       "    }\n",
       "\n",
       "    .dataframe thead th {\n",
       "        text-align: right;\n",
       "    }\n",
       "</style>\n",
       "<table border=\"1\" class=\"dataframe\">\n",
       "  <thead>\n",
       "    <tr style=\"text-align: right;\">\n",
       "      <th></th>\n",
       "      <th>id</th>\n",
       "      <th>conversation_id</th>\n",
       "      <th>created_at</th>\n",
       "      <th>date</th>\n",
       "      <th>time</th>\n",
       "      <th>timezone</th>\n",
       "      <th>user_id</th>\n",
       "      <th>username</th>\n",
       "      <th>name</th>\n",
       "      <th>place</th>\n",
       "      <th>...</th>\n",
       "      <th>geo</th>\n",
       "      <th>source</th>\n",
       "      <th>user_rt_id</th>\n",
       "      <th>user_rt</th>\n",
       "      <th>retweet_id</th>\n",
       "      <th>reply_to</th>\n",
       "      <th>retweet_date</th>\n",
       "      <th>translate</th>\n",
       "      <th>trans_src</th>\n",
       "      <th>trans_dest</th>\n",
       "    </tr>\n",
       "  </thead>\n",
       "  <tbody>\n",
       "    <tr>\n",
       "      <th>count</th>\n",
       "      <td>10015</td>\n",
       "      <td>10015</td>\n",
       "      <td>10015</td>\n",
       "      <td>10015</td>\n",
       "      <td>10015</td>\n",
       "      <td>10015</td>\n",
       "      <td>10015</td>\n",
       "      <td>10015</td>\n",
       "      <td>10015</td>\n",
       "      <td>2</td>\n",
       "      <td>...</td>\n",
       "      <td>1</td>\n",
       "      <td>1</td>\n",
       "      <td>1</td>\n",
       "      <td>1</td>\n",
       "      <td>1</td>\n",
       "      <td>10015</td>\n",
       "      <td>1</td>\n",
       "      <td>1</td>\n",
       "      <td>1</td>\n",
       "      <td>1</td>\n",
       "    </tr>\n",
       "    <tr>\n",
       "      <th>unique</th>\n",
       "      <td>4</td>\n",
       "      <td>304</td>\n",
       "      <td>3791</td>\n",
       "      <td>2</td>\n",
       "      <td>3791</td>\n",
       "      <td>2</td>\n",
       "      <td>7491</td>\n",
       "      <td>7715</td>\n",
       "      <td>7614</td>\n",
       "      <td>2</td>\n",
       "      <td>...</td>\n",
       "      <td>1</td>\n",
       "      <td>1</td>\n",
       "      <td>1</td>\n",
       "      <td>1</td>\n",
       "      <td>1</td>\n",
       "      <td>3820</td>\n",
       "      <td>1</td>\n",
       "      <td>1</td>\n",
       "      <td>1</td>\n",
       "      <td>1</td>\n",
       "    </tr>\n",
       "    <tr>\n",
       "      <th>top</th>\n",
       "      <td>1.50432E+18</td>\n",
       "      <td>1.50432E+18</td>\n",
       "      <td>2022-03-17 05:00:00 UTC</td>\n",
       "      <td>17/3/2022</td>\n",
       "      <td>5:00:00</td>\n",
       "      <td>0</td>\n",
       "      <td>1.50199E+18</td>\n",
       "      <td>playingaroundw</td>\n",
       "      <td>playingaround_web@yahoo.com</td>\n",
       "      <td>{'type': 'Point', 'coordinates': [37.54274326,...</td>\n",
       "      <td>...</td>\n",
       "      <td>geo</td>\n",
       "      <td>source</td>\n",
       "      <td>user_rt_id</td>\n",
       "      <td>user_rt</td>\n",
       "      <td>retweet_id</td>\n",
       "      <td>[]</td>\n",
       "      <td>retweet_date</td>\n",
       "      <td>translate</td>\n",
       "      <td>trans_src</td>\n",
       "      <td>trans_dest</td>\n",
       "    </tr>\n",
       "    <tr>\n",
       "      <th>freq</th>\n",
       "      <td>5620</td>\n",
       "      <td>2803</td>\n",
       "      <td>15</td>\n",
       "      <td>10014</td>\n",
       "      <td>15</td>\n",
       "      <td>10014</td>\n",
       "      <td>54</td>\n",
       "      <td>52</td>\n",
       "      <td>52</td>\n",
       "      <td>1</td>\n",
       "      <td>...</td>\n",
       "      <td>1</td>\n",
       "      <td>1</td>\n",
       "      <td>1</td>\n",
       "      <td>1</td>\n",
       "      <td>1</td>\n",
       "      <td>4604</td>\n",
       "      <td>1</td>\n",
       "      <td>1</td>\n",
       "      <td>1</td>\n",
       "      <td>1</td>\n",
       "    </tr>\n",
       "  </tbody>\n",
       "</table>\n",
       "<p>4 rows × 36 columns</p>\n",
       "</div>"
      ],
      "text/plain": [
       "                 id conversation_id               created_at       date  \\\n",
       "count         10015           10015                    10015      10015   \n",
       "unique            4             304                     3791          2   \n",
       "top     1.50432E+18     1.50432E+18  2022-03-17 05:00:00 UTC  17/3/2022   \n",
       "freq           5620            2803                       15      10014   \n",
       "\n",
       "           time timezone      user_id        username  \\\n",
       "count     10015    10015        10015           10015   \n",
       "unique     3791        2         7491            7715   \n",
       "top     5:00:00        0  1.50199E+18  playingaroundw   \n",
       "freq         15    10014           54              52   \n",
       "\n",
       "                               name  \\\n",
       "count                         10015   \n",
       "unique                         7614   \n",
       "top     playingaround_web@yahoo.com   \n",
       "freq                             52   \n",
       "\n",
       "                                                    place  ...  geo  source  \\\n",
       "count                                                   2  ...    1       1   \n",
       "unique                                                  2  ...    1       1   \n",
       "top     {'type': 'Point', 'coordinates': [37.54274326,...  ...  geo  source   \n",
       "freq                                                    1  ...    1       1   \n",
       "\n",
       "        user_rt_id  user_rt  retweet_id reply_to  retweet_date  translate  \\\n",
       "count            1        1           1    10015             1          1   \n",
       "unique           1        1           1     3820             1          1   \n",
       "top     user_rt_id  user_rt  retweet_id       []  retweet_date  translate   \n",
       "freq             1        1           1     4604             1          1   \n",
       "\n",
       "        trans_src  trans_dest  \n",
       "count           1           1  \n",
       "unique          1           1  \n",
       "top     trans_src  trans_dest  \n",
       "freq            1           1  \n",
       "\n",
       "[4 rows x 36 columns]"
      ]
     },
     "execution_count": 5,
     "metadata": {},
     "output_type": "execute_result"
    }
   ],
   "source": [
    "df.describe()"
   ]
  },
  {
   "cell_type": "code",
   "execution_count": 6,
   "metadata": {},
   "outputs": [
    {
     "data": {
      "text/plain": [
       "id                     0\n",
       "conversation_id        0\n",
       "created_at             0\n",
       "date                   0\n",
       "time                   0\n",
       "timezone               0\n",
       "user_id                0\n",
       "username               0\n",
       "name                   0\n",
       "place              10013\n",
       "tweet                  0\n",
       "language               0\n",
       "mentions               0\n",
       "urls                   0\n",
       "photos                 0\n",
       "replies_count          0\n",
       "retweets_counts        0\n",
       "likes_count            0\n",
       "hashtags               0\n",
       "cashtags               0\n",
       "link                   0\n",
       "retweet                0\n",
       "quote_url           9138\n",
       "video                  0\n",
       "thumbnail           9078\n",
       "near               10014\n",
       "geo                10014\n",
       "source             10014\n",
       "user_rt_id         10014\n",
       "user_rt            10014\n",
       "retweet_id         10014\n",
       "reply_to               0\n",
       "retweet_date       10014\n",
       "translate          10014\n",
       "trans_src          10014\n",
       "trans_dest         10014\n",
       "dtype: int64"
      ]
     },
     "execution_count": 6,
     "metadata": {},
     "output_type": "execute_result"
    }
   ],
   "source": [
    "df.isnull().sum()"
   ]
  },
  {
   "cell_type": "code",
   "execution_count": 7,
   "metadata": {},
   "outputs": [
    {
     "data": {
      "text/html": [
       "<div>\n",
       "<style scoped>\n",
       "    .dataframe tbody tr th:only-of-type {\n",
       "        vertical-align: middle;\n",
       "    }\n",
       "\n",
       "    .dataframe tbody tr th {\n",
       "        vertical-align: top;\n",
       "    }\n",
       "\n",
       "    .dataframe thead th {\n",
       "        text-align: right;\n",
       "    }\n",
       "</style>\n",
       "<table border=\"1\" class=\"dataframe\">\n",
       "  <thead>\n",
       "    <tr style=\"text-align: right;\">\n",
       "      <th></th>\n",
       "      <th>tweet</th>\n",
       "    </tr>\n",
       "  </thead>\n",
       "  <tbody>\n",
       "    <tr>\n",
       "      <th>0</th>\n",
       "      <td>@PeterSchiff @PadaPrabu @SteveKrohn1 If it wer...</td>\n",
       "    </tr>\n",
       "    <tr>\n",
       "      <th>1</th>\n",
       "      <td>@meatballsubzero Are you pro russia or pro Ukr...</td>\n",
       "    </tr>\n",
       "    <tr>\n",
       "      <th>2</th>\n",
       "      <td>@SUBWAY  Please stop doing business in Russia....</td>\n",
       "    </tr>\n",
       "    <tr>\n",
       "      <th>3</th>\n",
       "      <td>Is Russia prepared for an economic crisis? Dev...</td>\n",
       "    </tr>\n",
       "    <tr>\n",
       "      <th>4</th>\n",
       "      <td>@BW Putin is Fake News ðŸ“° The Ruble is trash...</td>\n",
       "    </tr>\n",
       "  </tbody>\n",
       "</table>\n",
       "</div>"
      ],
      "text/plain": [
       "                                               tweet\n",
       "0  @PeterSchiff @PadaPrabu @SteveKrohn1 If it wer...\n",
       "1  @meatballsubzero Are you pro russia or pro Ukr...\n",
       "2  @SUBWAY  Please stop doing business in Russia....\n",
       "3  Is Russia prepared for an economic crisis? Dev...\n",
       "4  @BW Putin is Fake News ðŸ“° The Ruble is trash..."
      ]
     },
     "execution_count": 7,
     "metadata": {},
     "output_type": "execute_result"
    }
   ],
   "source": [
    "df[[\"tweet\"]].head()"
   ]
  },
  {
   "cell_type": "code",
   "execution_count": 8,
   "metadata": {},
   "outputs": [
    {
     "data": {
      "text/plain": [
       "en          9018\n",
       "pt           211\n",
       "und          158\n",
       "it           118\n",
       "hi            80\n",
       "in            79\n",
       "ru            69\n",
       "ja            54\n",
       "es            22\n",
       "pl            19\n",
       "tl            18\n",
       "nl            15\n",
       "de            14\n",
       "ar            13\n",
       "fr            13\n",
       "zh            11\n",
       "th            10\n",
       "ca             9\n",
       "ta             8\n",
       "et             6\n",
       "ro             6\n",
       "ne             5\n",
       "or             5\n",
       "bn             5\n",
       "fi             5\n",
       "mr             5\n",
       "cs             4\n",
       "ml             4\n",
       "kn             4\n",
       "uk             4\n",
       "te             3\n",
       "ur             3\n",
       "gu             3\n",
       "el             3\n",
       "no             3\n",
       "tr             2\n",
       "iw             2\n",
       "fa             1\n",
       "language       1\n",
       "am             1\n",
       "sl             1\n",
       "Name: language, dtype: int64"
      ]
     },
     "execution_count": 8,
     "metadata": {},
     "output_type": "execute_result"
    }
   ],
   "source": [
    "df[\"language\"].value_counts()"
   ]
  },
  {
   "cell_type": "code",
   "execution_count": 9,
   "metadata": {},
   "outputs": [
    {
     "data": {
      "text/plain": [
       "<AxesSubplot:ylabel='language'>"
      ]
     },
     "execution_count": 9,
     "metadata": {},
     "output_type": "execute_result"
    },
    {
     "data": {
      "image/png": "[encoded data removed]",
      "text/plain": [
       "<Figure size 432x288 with 1 Axes>"
      ]
     },
     "metadata": {},
     "output_type": "display_data"
    }
   ],
   "source": [
    "df.language.value_counts().sort_values().plot(kind = 'pie')"
   ]
  },
  {
   "cell_type": "code",
   "execution_count": 10,
   "metadata": {},
   "outputs": [
    {
     "data": {
      "text/plain": [
       "'@PeterSchiff @PadaPrabu @SteveKrohn1 If it were you you would have shit your pants and changed the name of your country to Russia.'"
      ]
     },
     "execution_count": 10,
     "metadata": {},
     "output_type": "execute_result"
    }
   ],
   "source": [
    "df[\"tweet\"][0]"
   ]
  },
  {
   "cell_type": "code",
   "execution_count": 11,
   "metadata": {},
   "outputs": [],
   "source": [
    "def hashtag_extract(text_list):\n",
    "    hashtags = []\n",
    "# Loop over the words in the tweet\n",
    "    for text in text_list:\n",
    "        ht = re.findall(r\"#(\\w+)\", text)\n",
    "        hashtags.append(ht)\n",
    "    return hashtags\n",
    "def generate_hashtag_freqdist(hashtags):\n",
    "    a = nltk.FreqDist(hashtags)\n",
    "    d = pd.DataFrame({'Hashtag': list(a.keys()),\n",
    "'Count': list(a.values())})\n",
    "# selecting top 15 most frequent hashtags\n",
    "    d = d.nlargest(columns=\"Count\", n = 25)\n",
    "    plt.figure(figsize=(16,7))\n",
    "    ax = sns.barplot(data=d, x= \"Hashtag\", y = \"Count\")\n",
    "    plt.xticks(rotation=80)\n",
    "    ax.set(ylabel = 'Count')\n",
    "    plt.show()\n"
   ]
  },
  {
   "cell_type": "code",
   "execution_count": 13,
   "metadata": {},
   "outputs": [],
   "source": [
    "hashtags = hashtag_extract(df[\"tweet\"])\n",
    "hashtags = sum(hashtags, [])"
   ]
  },
  {
   "cell_type": "code",
   "execution_count": 15,
   "metadata": {},
   "outputs": [],
   "source": [
    "import seaborn as sns"
   ]
  },
  {
   "cell_type": "code",
   "execution_count": 16,
   "metadata": {},
   "outputs": [
    {
     "data": {
      "image/png": "[encoded data removed]",
      "text/plain": [
       "<Figure size 1152x504 with 1 Axes>"
      ]
     },
     "metadata": {
      "needs_background": "light"
     },
     "output_type": "display_data"
    }
   ],
   "source": [
    "generate_hashtag_freqdist(hashtags)"
   ]
  },
  {
   "cell_type": "code",
   "execution_count": 18,
   "metadata": {},
   "outputs": [
    {
     "name": "stdout",
     "output_type": "stream",
     "text": [
      "0        130\n",
      "1        162\n",
      "2        167\n",
      "3        220\n",
      "4         81\n",
      "        ... \n",
      "10010     84\n",
      "10011    176\n",
      "10012    249\n",
      "10013    216\n",
      "10014      5\n",
      "Name: total_length_characters, Length: 10015, dtype: int64\n",
      "1809205\n",
      "10015\n",
      "180.64952571143286\n"
     ]
    }
   ],
   "source": [
    "df['total_length_characters'] = df['tweet'].str.len()\n",
    "print(df['total_length_characters'])\n",
    "total_length_characters = df['total_length_characters'].sum()\n",
    "print(total_length_characters)\n",
    "count = 0\n",
    "for y in df[\"tweet\"]:\n",
    "    count = count + 1\n",
    "print(count)\n",
    "average_length = total_length_characters / count\n",
    "print (average_length)"
   ]
  },
  {
   "cell_type": "code",
   "execution_count": 20,
   "metadata": {},
   "outputs": [
    {
     "name": "stdout",
     "output_type": "stream",
     "text": [
      "0        22\n",
      "1        28\n",
      "2        26\n",
      "3        32\n",
      "4        15\n",
      "         ..\n",
      "10010    11\n",
      "10011    32\n",
      "10012    39\n",
      "10013    32\n",
      "10014     1\n",
      "Name: total_count_words, Length: 10015, dtype: int64\n",
      "271704\n",
      "10015\n",
      "27.129705441837245\n"
     ]
    }
   ],
   "source": [
    "df['total_count_words'] = df['tweet'].str.split().str.len()\n",
    "print(df['total_count_words'])\n",
    "total_words = df['total_count_words'].sum()\n",
    "print(total_words)\n",
    "count = 0\n",
    "for y in df[\"tweet\"]:\n",
    "    count = count + 1\n",
    "print(count)\n",
    "average_words = total_words / count\n",
    "print (average_words)"
   ]
  },
  {
   "cell_type": "code",
   "execution_count": 21,
   "metadata": {},
   "outputs": [],
   "source": [
    "def clean(text):\n",
    "    text = str(text).lower()\n",
    "    text = re.sub('\\[.*?\\]', '', text)\n",
    "    text = re.sub('https?://\\S+|www\\.\\S+', '', text)\n",
    "    text = re.sub('<.*?>+', '', text)\n",
    "    text = re.sub('[%s]' % re.escape(string.punctuation), '', text)\n",
    "    text = re.sub('\\n', '', text)\n",
    "    text = re.sub('\\w*\\d\\w*', '', text)\n",
    "    text = [word for word in text.split(' ') if word not in stopword]\n",
    "    text=\" \".join(text)\n",
    "    text = [stemmer.stem(word) for word in text.split(' ')]\n",
    "    text=\" \".join(text)\n",
    "    return text\n",
    "df[\"tweet\"] = df[\"tweet\"].apply(clean)"
   ]
  },
  {
   "cell_type": "code",
   "execution_count": 23,
   "metadata": {},
   "outputs": [
    {
     "name": "stdout",
     "output_type": "stream",
     "text": [
      "0         64\n",
      "1         98\n",
      "2        121\n",
      "3        134\n",
      "4         63\n",
      "        ... \n",
      "10010     74\n",
      "10011    115\n",
      "10012    130\n",
      "10013    137\n",
      "10014      5\n",
      "Name: total_length_characters, Length: 10015, dtype: int64\n",
      "1151860\n",
      "10015\n",
      "115.0134797803295\n"
     ]
    }
   ],
   "source": [
    "df['total_length_characters'] = df['tweet'].str.len()\n",
    "print(df['total_length_characters'])\n",
    "total_length_characters = df['total_length_characters'].sum()\n",
    "print(total_length_characters)\n",
    "count = 0\n",
    "for y in df[\"tweet\"]:\n",
    "    count = count + 1\n",
    "print(count)\n",
    "average_length = total_length_characters / count\n",
    "print (average_length)"
   ]
  },
  {
   "cell_type": "code",
   "execution_count": 24,
   "metadata": {},
   "outputs": [
    {
     "name": "stdout",
     "output_type": "stream",
     "text": [
      "0         9\n",
      "1        16\n",
      "2        19\n",
      "3        19\n",
      "4        11\n",
      "         ..\n",
      "10010    10\n",
      "10011    19\n",
      "10012    20\n",
      "10013    18\n",
      "10014     1\n",
      "Name: total_count_words, Length: 10015, dtype: int64\n",
      "163756\n",
      "10015\n",
      "16.35107338991513\n"
     ]
    }
   ],
   "source": [
    "df['total_count_words'] = df['tweet'].str.split().str.len()\n",
    "print(df['total_count_words'])\n",
    "total_words = df['total_count_words'].sum()\n",
    "print(total_words)\n",
    "count = 0\n",
    "for y in df[\"tweet\"]:\n",
    "    count = count + 1\n",
    "print(count)\n",
    "average_words = total_words / count\n",
    "print (average_words)\n"
   ]
  },
  {
   "cell_type": "code",
   "execution_count": 25,
   "metadata": {},
   "outputs": [
    {
     "name": "stdout",
     "output_type": "stream",
     "text": [
      "Collecting textblob\n",
      "  Downloading textblob-0.17.1-py2.py3-none-any.whl (636 kB)"
     ]
    },
    {
     "name": "stderr",
     "output_type": "stream",
     "text": [
      "WARNING: Ignoring invalid distribution -atplotlib (c:\\users\\admin\\appdata\\local\\programs\\python\\python38\\lib\\site-packages)\n",
      "WARNING: Ignoring invalid distribution -atplotlib (c:\\users\\admin\\appdata\\local\\programs\\python\\python38\\lib\\site-packages)\n",
      "WARNING: Ignoring invalid distribution -atplotlib (c:\\users\\admin\\appdata\\local\\programs\\python\\python38\\lib\\site-packages)\n",
      "WARNING: Ignoring invalid distribution -atplotlib (c:\\users\\admin\\appdata\\local\\programs\\python\\python38\\lib\\site-packages)\n",
      "WARNING: Ignoring invalid distribution -atplotlib (c:\\users\\admin\\appdata\\local\\programs\\python\\python38\\lib\\site-packages)\n",
      "WARNING: Ignoring invalid distribution -atplotlib (c:\\users\\admin\\appdata\\local\\programs\\python\\python38\\lib\\site-packages)\n",
      "WARNING: Ignoring invalid distribution -atplotlib (c:\\users\\admin\\appdata\\local\\programs\\python\\python38\\lib\\site-packages)\n",
      "WARNING: You are using pip version 21.1.2; however, version 22.0.4 is available.\n",
      "You should consider upgrading via the 'c:\\users\\admin\\appdata\\local\\programs\\python\\python38\\python.exe -m pip install --upgrade pip' command.\n"
     ]
    },
    {
     "name": "stdout",
     "output_type": "stream",
     "text": [
      "\n",
      "Requirement already satisfied: nltk>=3.1 in c:\\users\\admin\\appdata\\local\\programs\\python\\python38\\lib\\site-packages (from textblob) (3.5)\n",
      "Requirement already satisfied: joblib in c:\\users\\admin\\appdata\\local\\programs\\python\\python38\\lib\\site-packages (from nltk>=3.1->textblob) (0.14.1)\n",
      "Requirement already satisfied: tqdm in c:\\users\\admin\\appdata\\local\\programs\\python\\python38\\lib\\site-packages (from nltk>=3.1->textblob) (4.46.1)\n",
      "Requirement already satisfied: click in c:\\users\\admin\\appdata\\local\\programs\\python\\python38\\lib\\site-packages (from nltk>=3.1->textblob) (7.1.2)\n",
      "Requirement already satisfied: regex in c:\\users\\admin\\appdata\\local\\programs\\python\\python38\\lib\\site-packages (from nltk>=3.1->textblob) (2020.7.14)\n",
      "Installing collected packages: textblob\n",
      "Successfully installed textblob-0.17.1\n"
     ]
    }
   ],
   "source": [
    "!pip install textblob"
   ]
  },
  {
   "cell_type": "code",
   "execution_count": 26,
   "metadata": {
    "scrolled": true
   },
   "outputs": [],
   "source": [
    "from textblob import TextBlob"
   ]
  },
  {
   "cell_type": "code",
   "execution_count": 27,
   "metadata": {},
   "outputs": [],
   "source": [
    "def analyze_sentiment(tweet):\n",
    "    analysis = TextBlob(clean(tweet))\n",
    "    if analysis.sentiment.polarity > 0:\n",
    "        return 1\n",
    "    elif analysis.sentiment.polarity == 0:\n",
    "        return 0\n",
    "    else:\n",
    "        return -1\n"
   ]
  },
  {
   "cell_type": "code",
   "execution_count": 28,
   "metadata": {},
   "outputs": [],
   "source": [
    "df['Sentiment'] = df['tweet'].apply(lambda x:analyze_sentiment(x))\n",
    "df['Source'] = 'random_user'\n",
    "df['Length'] = df['tweet'].apply(len)\n",
    "df['Word_counts'] = df['tweet'].apply(lambda x:len(str(x).split()))"
   ]
  },
  {
   "cell_type": "code",
   "execution_count": 31,
   "metadata": {},
   "outputs": [
    {
     "data": {
      "text/html": [
       "<div>\n",
       "<style scoped>\n",
       "    .dataframe tbody tr th:only-of-type {\n",
       "        vertical-align: middle;\n",
       "    }\n",
       "\n",
       "    .dataframe tbody tr th {\n",
       "        vertical-align: top;\n",
       "    }\n",
       "\n",
       "    .dataframe thead th {\n",
       "        text-align: right;\n",
       "    }\n",
       "</style>\n",
       "<table border=\"1\" class=\"dataframe\">\n",
       "  <thead>\n",
       "    <tr style=\"text-align: right;\">\n",
       "      <th></th>\n",
       "      <th>tweet</th>\n",
       "      <th>retweets_counts</th>\n",
       "      <th>Sentiment</th>\n",
       "      <th>Source</th>\n",
       "      <th>Length</th>\n",
       "      <th>Word_counts</th>\n",
       "    </tr>\n",
       "  </thead>\n",
       "  <tbody>\n",
       "    <tr>\n",
       "      <th>0</th>\n",
       "      <td>peterschiff padaprabu  would shit pant chang n...</td>\n",
       "      <td>0</td>\n",
       "      <td>-1</td>\n",
       "      <td>random_user</td>\n",
       "      <td>64</td>\n",
       "      <td>9</td>\n",
       "    </tr>\n",
       "    <tr>\n",
       "      <th>1</th>\n",
       "      <td>meatballsubzero pro russia pro ukrain  cannot ...</td>\n",
       "      <td>0</td>\n",
       "      <td>0</td>\n",
       "      <td>random_user</td>\n",
       "      <td>98</td>\n",
       "      <td>16</td>\n",
       "    </tr>\n",
       "    <tr>\n",
       "      <th>2</th>\n",
       "      <td>subway  pleas stop busi russia everi dollar sp...</td>\n",
       "      <td>0</td>\n",
       "      <td>1</td>\n",
       "      <td>random_user</td>\n",
       "      <td>121</td>\n",
       "      <td>19</td>\n",
       "    </tr>\n",
       "    <tr>\n",
       "      <th>3</th>\n",
       "      <td>russia prepar econom crisi develop expert nata...</td>\n",
       "      <td>0</td>\n",
       "      <td>0</td>\n",
       "      <td>random_user</td>\n",
       "      <td>134</td>\n",
       "      <td>19</td>\n",
       "    </tr>\n",
       "    <tr>\n",
       "      <th>4</th>\n",
       "      <td>bw putin fake news ðÿ“° rubl trash ðÿ—  russia...</td>\n",
       "      <td>0</td>\n",
       "      <td>-1</td>\n",
       "      <td>random_user</td>\n",
       "      <td>63</td>\n",
       "      <td>11</td>\n",
       "    </tr>\n",
       "  </tbody>\n",
       "</table>\n",
       "</div>"
      ],
      "text/plain": [
       "                                               tweet retweets_counts  \\\n",
       "0  peterschiff padaprabu  would shit pant chang n...               0   \n",
       "1  meatballsubzero pro russia pro ukrain  cannot ...               0   \n",
       "2  subway  pleas stop busi russia everi dollar sp...               0   \n",
       "3  russia prepar econom crisi develop expert nata...               0   \n",
       "4  bw putin fake news ðÿ“° rubl trash ðÿ—  russia...               0   \n",
       "\n",
       "   Sentiment       Source  Length  Word_counts  \n",
       "0         -1  random_user      64            9  \n",
       "1          0  random_user      98           16  \n",
       "2          1  random_user     121           19  \n",
       "3          0  random_user     134           19  \n",
       "4         -1  random_user      63           11  "
      ]
     },
     "execution_count": 31,
     "metadata": {},
     "output_type": "execute_result"
    }
   ],
   "source": [
    "df1=df[['tweet','retweets_counts', 'Sentiment', 'Source','Length','Word_counts']]\n",
    "df1.head()\n"
   ]
  },
  {
   "cell_type": "code",
   "execution_count": 32,
   "metadata": {},
   "outputs": [],
   "source": [
    "df1['Clean tweet'] = df1['tweet'].apply(lambda x:clean(x))"
   ]
  },
  {
   "cell_type": "code",
   "execution_count": 33,
   "metadata": {},
   "outputs": [
    {
     "data": {
      "text/plain": [
       "Clean tweet    ewarren war russia putin peopl wef go peopl la...\n",
       "Sentiment                                                      0\n",
       "Name: 100, dtype: object"
      ]
     },
     "execution_count": 33,
     "metadata": {},
     "output_type": "execute_result"
    }
   ],
   "source": [
    "df1[[\"Clean tweet\",\"Sentiment\"]].iloc[100]\n"
   ]
  },
  {
   "cell_type": "code",
   "execution_count": 34,
   "metadata": {},
   "outputs": [
    {
     "data": {
      "text/plain": [
       " 0    5095\n",
       " 1    2788\n",
       "-1    2132\n",
       "Name: Sentiment, dtype: int64"
      ]
     },
     "execution_count": 34,
     "metadata": {},
     "output_type": "execute_result"
    }
   ],
   "source": [
    "sentiment = df1['Sentiment'].value_counts()\n",
    "sentiment"
   ]
  },
  {
   "cell_type": "code",
   "execution_count": 38,
   "metadata": {},
   "outputs": [],
   "source": [
    "neutral = df1[df1['Sentiment'] == 0]\n",
    "positive = df1[df1['Sentiment'] == 1]\n",
    "negative = df1[df1['Sentiment'] == -1]"
   ]
  },
  {
   "cell_type": "code",
   "execution_count": 39,
   "metadata": {},
   "outputs": [
    {
     "data": {
      "text/plain": [
       "tweet              bw putin fake news ðÿ“° rubl trash ðÿ—  russia...\n",
       "retweets_counts                                                    0\n",
       "Sentiment                                                         -1\n",
       "Source                                                   random_user\n",
       "Length                                                            63\n",
       "Word_counts                                                       11\n",
       "Clean tweet        bw putin fake news ðÿ“° rubl trash ðÿ—  russia...\n",
       "Name: 4, dtype: object"
      ]
     },
     "execution_count": 39,
     "metadata": {},
     "output_type": "execute_result"
    }
   ],
   "source": [
    "negative.iloc[1]\n"
   ]
  },
  {
   "cell_type": "code",
   "execution_count": 40,
   "metadata": {},
   "outputs": [
    {
     "name": "stdout",
     "output_type": "stream",
     "text": [
      "Neutral tweet example : us allow russia troop cuba mexico attack said countri\n",
      "Positive Tweet example : new post media israeliani russia aperta idea di negoziati gerusalemm â€“   \n",
      "Negative Tweet example : bw putin fake news ðÿ“° rubl trash ðÿ—  russia histori ðÿ'‹ðÿ½\n"
     ]
    }
   ],
   "source": [
    "print(\"Neutral tweet example :\",neutral['tweet'].values[15])\n",
    "# Positive tweet\n",
    "print(\"Positive Tweet example :\",positive['tweet'].values[37])\n",
    "#negative_text\n",
    "print(\"Negative Tweet example :\",negative['tweet'].values[1])"
   ]
  },
  {
   "cell_type": "code",
   "execution_count": 41,
   "metadata": {},
   "outputs": [],
   "source": [
    "from wordcloud import WordCloud"
   ]
  },
  {
   "cell_type": "code",
   "execution_count": 43,
   "metadata": {},
   "outputs": [
    {
     "data": {
      "image/png": "[encoded data removed]",
      "text/plain": [
       "<Figure size 432x288 with 1 Axes>"
      ]
     },
     "metadata": {
      "needs_background": "light"
     },
     "output_type": "display_data"
    }
   ],
   "source": [
    "txt = ' '.join(text for text in df1['Clean tweet'])\n",
    "wordcloud = WordCloud(\n",
    "background_color = 'white',\n",
    "max_font_size = 100,\n",
    "max_words = 100,\n",
    "width = 800,\n",
    "height = 500\n",
    ").generate(txt)\n",
    "plt.imshow(wordcloud,interpolation = 'bilinear')\n",
    "plt.axis('off')\n",
    "plt.show()"
   ]
  },
  {
   "cell_type": "markdown",
   "metadata": {},
   "source": [
    "# Thank You"
   ]
  }
 ],
 "metadata": {
  "kernelspec": {
   "display_name": "Python 3",
   "language": "python",
   "name": "python3"
  },
  "language_info": {
   "codemirror_mode": {
    "name": "ipython",
    "version": 3
   },
   "file_extension": ".py",
   "mimetype": "text/x-python",
   "name": "python",
   "nbconvert_exporter": "python",
   "pygments_lexer": "ipython3",
   "version": "3.8.1"
  }
 },
 "nbformat": 4,
 "nbformat_minor": 4
}
