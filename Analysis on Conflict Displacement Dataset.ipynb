{
 "cells": [
  {
   "cell_type": "code",
   "execution_count": 1,
   "metadata": {},
   "outputs": [],
   "source": [
    "import numpy as np\n",
    "import pandas as pd\n",
    "import matplotlib.pyplot as plt\n",
    "import seaborn as sns"
   ]
  },
  {
   "cell_type": "code",
   "execution_count": 2,
   "metadata": {},
   "outputs": [
    {
     "data": {
      "text/html": [
       "<div>\n",
       "<style scoped>\n",
       "    .dataframe tbody tr th:only-of-type {\n",
       "        vertical-align: middle;\n",
       "    }\n",
       "\n",
       "    .dataframe tbody tr th {\n",
       "        vertical-align: top;\n",
       "    }\n",
       "\n",
       "    .dataframe thead th {\n",
       "        text-align: right;\n",
       "    }\n",
       "</style>\n",
       "<table border=\"1\" class=\"dataframe\">\n",
       "  <thead>\n",
       "    <tr style=\"text-align: right;\">\n",
       "      <th></th>\n",
       "      <th>DISP_DATE</th>\n",
       "      <th>ORIG_PROV_CODE</th>\n",
       "      <th>ORIG_PROV_NAME</th>\n",
       "      <th>ORIG_DIST_CODE</th>\n",
       "      <th>ORIG_DIST_NAME</th>\n",
       "      <th>DISP_PROV_CODE</th>\n",
       "      <th>DISP_PROV_NAME</th>\n",
       "      <th>DISP_DIST_CODE</th>\n",
       "      <th>DISP_DIST_NAME</th>\n",
       "      <th>DISP_IND</th>\n",
       "      <th>DISP_FAM</th>\n",
       "      <th>DISP_ADULT_MALE</th>\n",
       "      <th>DISP_ADULT_FEMALE</th>\n",
       "      <th>DISP_CHILDREN_U18</th>\n",
       "    </tr>\n",
       "  </thead>\n",
       "  <tbody>\n",
       "    <tr>\n",
       "      <th>0</th>\n",
       "      <td>#date+occurred</td>\n",
       "      <td>#admin1+code+x_origin</td>\n",
       "      <td>#admin1+name+x_origin</td>\n",
       "      <td>#admin2+code+x_origin</td>\n",
       "      <td>#admin2+name+x_origin</td>\n",
       "      <td>#admin1+code+x_destination</td>\n",
       "      <td>#admin1+name+x_destination</td>\n",
       "      <td>#admin2+code+x_destination</td>\n",
       "      <td>#admin2+name+x_destination</td>\n",
       "      <td>#affected+displaced</td>\n",
       "      <td>#affected+dispalced+families</td>\n",
       "      <td>#affected+displaced+m+adults</td>\n",
       "      <td>#affected+displaced+f+adults</td>\n",
       "      <td>#affected+dispalced+children</td>\n",
       "    </tr>\n",
       "    <tr>\n",
       "      <th>1</th>\n",
       "      <td>01-01-21</td>\n",
       "      <td>6</td>\n",
       "      <td>Nangarhar</td>\n",
       "      <td>604</td>\n",
       "      <td>Khogyani</td>\n",
       "      <td>6</td>\n",
       "      <td>Nangarhar</td>\n",
       "      <td>601</td>\n",
       "      <td>Jalalabad</td>\n",
       "      <td>217</td>\n",
       "      <td>31</td>\n",
       "      <td>42</td>\n",
       "      <td>45</td>\n",
       "      <td>130</td>\n",
       "    </tr>\n",
       "    <tr>\n",
       "      <th>2</th>\n",
       "      <td>01-01-21</td>\n",
       "      <td>28</td>\n",
       "      <td>Faryab</td>\n",
       "      <td>2806</td>\n",
       "      <td>Qaysar</td>\n",
       "      <td>28</td>\n",
       "      <td>Faryab</td>\n",
       "      <td>2801</td>\n",
       "      <td>Maymana</td>\n",
       "      <td>931</td>\n",
       "      <td>133</td>\n",
       "      <td>NaN</td>\n",
       "      <td>NaN</td>\n",
       "      <td>NaN</td>\n",
       "    </tr>\n",
       "    <tr>\n",
       "      <th>3</th>\n",
       "      <td>01-01-21</td>\n",
       "      <td>28</td>\n",
       "      <td>Faryab</td>\n",
       "      <td>2802</td>\n",
       "      <td>Khwajasabzposh</td>\n",
       "      <td>28</td>\n",
       "      <td>Faryab</td>\n",
       "      <td>2801</td>\n",
       "      <td>Maymana</td>\n",
       "      <td>861</td>\n",
       "      <td>123</td>\n",
       "      <td>NaN</td>\n",
       "      <td>NaN</td>\n",
       "      <td>NaN</td>\n",
       "    </tr>\n",
       "    <tr>\n",
       "      <th>4</th>\n",
       "      <td>01-01-21</td>\n",
       "      <td>28</td>\n",
       "      <td>Faryab</td>\n",
       "      <td>2805</td>\n",
       "      <td>Almar</td>\n",
       "      <td>28</td>\n",
       "      <td>Faryab</td>\n",
       "      <td>2801</td>\n",
       "      <td>Maymana</td>\n",
       "      <td>7</td>\n",
       "      <td>1</td>\n",
       "      <td>NaN</td>\n",
       "      <td>NaN</td>\n",
       "      <td>NaN</td>\n",
       "    </tr>\n",
       "  </tbody>\n",
       "</table>\n",
       "</div>"
      ],
      "text/plain": [
       "        DISP_DATE         ORIG_PROV_CODE         ORIG_PROV_NAME  \\\n",
       "0  #date+occurred  #admin1+code+x_origin  #admin1+name+x_origin   \n",
       "1        01-01-21                      6              Nangarhar   \n",
       "2        01-01-21                     28                 Faryab   \n",
       "3        01-01-21                     28                 Faryab   \n",
       "4        01-01-21                     28                 Faryab   \n",
       "\n",
       "          ORIG_DIST_CODE         ORIG_DIST_NAME              DISP_PROV_CODE  \\\n",
       "0  #admin2+code+x_origin  #admin2+name+x_origin  #admin1+code+x_destination   \n",
       "1                    604               Khogyani                           6   \n",
       "2                   2806                 Qaysar                          28   \n",
       "3                   2802         Khwajasabzposh                          28   \n",
       "4                   2805                  Almar                          28   \n",
       "\n",
       "               DISP_PROV_NAME              DISP_DIST_CODE  \\\n",
       "0  #admin1+name+x_destination  #admin2+code+x_destination   \n",
       "1                   Nangarhar                         601   \n",
       "2                      Faryab                        2801   \n",
       "3                      Faryab                        2801   \n",
       "4                      Faryab                        2801   \n",
       "\n",
       "               DISP_DIST_NAME             DISP_IND  \\\n",
       "0  #admin2+name+x_destination  #affected+displaced   \n",
       "1                   Jalalabad                  217   \n",
       "2                     Maymana                  931   \n",
       "3                     Maymana                  861   \n",
       "4                     Maymana                    7   \n",
       "\n",
       "                       DISP_FAM               DISP_ADULT_MALE  \\\n",
       "0  #affected+dispalced+families  #affected+displaced+m+adults   \n",
       "1                            31                            42   \n",
       "2                           133                           NaN   \n",
       "3                           123                           NaN   \n",
       "4                             1                           NaN   \n",
       "\n",
       "              DISP_ADULT_FEMALE             DISP_CHILDREN_U18  \n",
       "0  #affected+displaced+f+adults  #affected+dispalced+children  \n",
       "1                            45                           130  \n",
       "2                           NaN                           NaN  \n",
       "3                           NaN                           NaN  \n",
       "4                           NaN                           NaN  "
      ]
     },
     "execution_count": 2,
     "metadata": {},
     "output_type": "execute_result"
    }
   ],
   "source": [
    "df = pd.read_csv(r'C:\\Users\\Admin\\Desktop\\afghanistan_conflict_displacements_2021.csv')\n",
    "df.head()"
   ]
  },
  {
   "cell_type": "code",
   "execution_count": 3,
   "metadata": {},
   "outputs": [
    {
     "data": {
      "text/html": [
       "<div>\n",
       "<style scoped>\n",
       "    .dataframe tbody tr th:only-of-type {\n",
       "        vertical-align: middle;\n",
       "    }\n",
       "\n",
       "    .dataframe tbody tr th {\n",
       "        vertical-align: top;\n",
       "    }\n",
       "\n",
       "    .dataframe thead th {\n",
       "        text-align: right;\n",
       "    }\n",
       "</style>\n",
       "<table border=\"1\" class=\"dataframe\">\n",
       "  <thead>\n",
       "    <tr style=\"text-align: right;\">\n",
       "      <th></th>\n",
       "      <th>DISP_DATE</th>\n",
       "      <th>ORIG_PROV_CODE</th>\n",
       "      <th>ORIG_PROV_NAME</th>\n",
       "      <th>ORIG_DIST_CODE</th>\n",
       "      <th>ORIG_DIST_NAME</th>\n",
       "      <th>DISP_PROV_CODE</th>\n",
       "      <th>DISP_PROV_NAME</th>\n",
       "      <th>DISP_DIST_CODE</th>\n",
       "      <th>DISP_DIST_NAME</th>\n",
       "      <th>DISP_IND</th>\n",
       "      <th>DISP_FAM</th>\n",
       "      <th>DISP_ADULT_MALE</th>\n",
       "      <th>DISP_ADULT_FEMALE</th>\n",
       "      <th>DISP_CHILDREN_U18</th>\n",
       "    </tr>\n",
       "  </thead>\n",
       "  <tbody>\n",
       "    <tr>\n",
       "      <th>1</th>\n",
       "      <td>01-01-21</td>\n",
       "      <td>6</td>\n",
       "      <td>Nangarhar</td>\n",
       "      <td>604</td>\n",
       "      <td>Khogyani</td>\n",
       "      <td>6</td>\n",
       "      <td>Nangarhar</td>\n",
       "      <td>601</td>\n",
       "      <td>Jalalabad</td>\n",
       "      <td>217</td>\n",
       "      <td>31</td>\n",
       "      <td>42</td>\n",
       "      <td>45</td>\n",
       "      <td>130</td>\n",
       "    </tr>\n",
       "    <tr>\n",
       "      <th>2</th>\n",
       "      <td>01-01-21</td>\n",
       "      <td>28</td>\n",
       "      <td>Faryab</td>\n",
       "      <td>2806</td>\n",
       "      <td>Qaysar</td>\n",
       "      <td>28</td>\n",
       "      <td>Faryab</td>\n",
       "      <td>2801</td>\n",
       "      <td>Maymana</td>\n",
       "      <td>931</td>\n",
       "      <td>133</td>\n",
       "      <td>NaN</td>\n",
       "      <td>NaN</td>\n",
       "      <td>NaN</td>\n",
       "    </tr>\n",
       "    <tr>\n",
       "      <th>3</th>\n",
       "      <td>01-01-21</td>\n",
       "      <td>28</td>\n",
       "      <td>Faryab</td>\n",
       "      <td>2802</td>\n",
       "      <td>Khwajasabzposh</td>\n",
       "      <td>28</td>\n",
       "      <td>Faryab</td>\n",
       "      <td>2801</td>\n",
       "      <td>Maymana</td>\n",
       "      <td>861</td>\n",
       "      <td>123</td>\n",
       "      <td>NaN</td>\n",
       "      <td>NaN</td>\n",
       "      <td>NaN</td>\n",
       "    </tr>\n",
       "    <tr>\n",
       "      <th>4</th>\n",
       "      <td>01-01-21</td>\n",
       "      <td>28</td>\n",
       "      <td>Faryab</td>\n",
       "      <td>2805</td>\n",
       "      <td>Almar</td>\n",
       "      <td>28</td>\n",
       "      <td>Faryab</td>\n",
       "      <td>2801</td>\n",
       "      <td>Maymana</td>\n",
       "      <td>7</td>\n",
       "      <td>1</td>\n",
       "      <td>NaN</td>\n",
       "      <td>NaN</td>\n",
       "      <td>NaN</td>\n",
       "    </tr>\n",
       "    <tr>\n",
       "      <th>5</th>\n",
       "      <td>01-01-21</td>\n",
       "      <td>28</td>\n",
       "      <td>Faryab</td>\n",
       "      <td>2803</td>\n",
       "      <td>Pashtunkot</td>\n",
       "      <td>28</td>\n",
       "      <td>Faryab</td>\n",
       "      <td>2801</td>\n",
       "      <td>Maymana</td>\n",
       "      <td>28</td>\n",
       "      <td>4</td>\n",
       "      <td>NaN</td>\n",
       "      <td>NaN</td>\n",
       "      <td>NaN</td>\n",
       "    </tr>\n",
       "    <tr>\n",
       "      <th>...</th>\n",
       "      <td>...</td>\n",
       "      <td>...</td>\n",
       "      <td>...</td>\n",
       "      <td>...</td>\n",
       "      <td>...</td>\n",
       "      <td>...</td>\n",
       "      <td>...</td>\n",
       "      <td>...</td>\n",
       "      <td>...</td>\n",
       "      <td>...</td>\n",
       "      <td>...</td>\n",
       "      <td>...</td>\n",
       "      <td>...</td>\n",
       "      <td>...</td>\n",
       "    </tr>\n",
       "    <tr>\n",
       "      <th>1174</th>\n",
       "      <td>18-10-21</td>\n",
       "      <td>21</td>\n",
       "      <td>Ghor</td>\n",
       "      <td>2101</td>\n",
       "      <td>Chaghcharan</td>\n",
       "      <td>30</td>\n",
       "      <td>Hirat</td>\n",
       "      <td>3001</td>\n",
       "      <td>Hirat</td>\n",
       "      <td>182</td>\n",
       "      <td>26</td>\n",
       "      <td>NaN</td>\n",
       "      <td>NaN</td>\n",
       "      <td>NaN</td>\n",
       "    </tr>\n",
       "    <tr>\n",
       "      <th>1175</th>\n",
       "      <td>19-10-21</td>\n",
       "      <td>21</td>\n",
       "      <td>Ghor</td>\n",
       "      <td>2109</td>\n",
       "      <td>Tolak</td>\n",
       "      <td>30</td>\n",
       "      <td>Hirat</td>\n",
       "      <td>3001</td>\n",
       "      <td>Hirat</td>\n",
       "      <td>154</td>\n",
       "      <td>22</td>\n",
       "      <td>NaN</td>\n",
       "      <td>NaN</td>\n",
       "      <td>NaN</td>\n",
       "    </tr>\n",
       "    <tr>\n",
       "      <th>1176</th>\n",
       "      <td>20-10-21</td>\n",
       "      <td>11</td>\n",
       "      <td>Ghazni</td>\n",
       "      <td>1101</td>\n",
       "      <td>Ghazni</td>\n",
       "      <td>1</td>\n",
       "      <td>Kabul</td>\n",
       "      <td>101</td>\n",
       "      <td>Kabul</td>\n",
       "      <td>210</td>\n",
       "      <td>30</td>\n",
       "      <td>NaN</td>\n",
       "      <td>NaN</td>\n",
       "      <td>NaN</td>\n",
       "    </tr>\n",
       "    <tr>\n",
       "      <th>1177</th>\n",
       "      <td>09-11-21</td>\n",
       "      <td>4</td>\n",
       "      <td>Wardak</td>\n",
       "      <td>404</td>\n",
       "      <td>Hesa-e-Awal-e-Behsud</td>\n",
       "      <td>1</td>\n",
       "      <td>Kabul</td>\n",
       "      <td>101</td>\n",
       "      <td>Kabul</td>\n",
       "      <td>175</td>\n",
       "      <td>25</td>\n",
       "      <td>NaN</td>\n",
       "      <td>NaN</td>\n",
       "      <td>NaN</td>\n",
       "    </tr>\n",
       "    <tr>\n",
       "      <th>1178</th>\n",
       "      <td>22-11-21</td>\n",
       "      <td>2</td>\n",
       "      <td>Kapisa</td>\n",
       "      <td>205</td>\n",
       "      <td>Tagab</td>\n",
       "      <td>2</td>\n",
       "      <td>Kapisa</td>\n",
       "      <td>201</td>\n",
       "      <td>Mahmud-e-Raqi</td>\n",
       "      <td>63</td>\n",
       "      <td>9</td>\n",
       "      <td>NaN</td>\n",
       "      <td>NaN</td>\n",
       "      <td>NaN</td>\n",
       "    </tr>\n",
       "  </tbody>\n",
       "</table>\n",
       "<p>1178 rows × 14 columns</p>\n",
       "</div>"
      ],
      "text/plain": [
       "     DISP_DATE ORIG_PROV_CODE ORIG_PROV_NAME ORIG_DIST_CODE  \\\n",
       "1     01-01-21              6      Nangarhar            604   \n",
       "2     01-01-21             28         Faryab           2806   \n",
       "3     01-01-21             28         Faryab           2802   \n",
       "4     01-01-21             28         Faryab           2805   \n",
       "5     01-01-21             28         Faryab           2803   \n",
       "...        ...            ...            ...            ...   \n",
       "1174  18-10-21             21           Ghor           2101   \n",
       "1175  19-10-21             21           Ghor           2109   \n",
       "1176  20-10-21             11         Ghazni           1101   \n",
       "1177  09-11-21              4         Wardak            404   \n",
       "1178  22-11-21              2         Kapisa            205   \n",
       "\n",
       "            ORIG_DIST_NAME DISP_PROV_CODE DISP_PROV_NAME DISP_DIST_CODE  \\\n",
       "1                 Khogyani              6      Nangarhar            601   \n",
       "2                   Qaysar             28         Faryab           2801   \n",
       "3           Khwajasabzposh             28         Faryab           2801   \n",
       "4                    Almar             28         Faryab           2801   \n",
       "5               Pashtunkot             28         Faryab           2801   \n",
       "...                    ...            ...            ...            ...   \n",
       "1174           Chaghcharan             30          Hirat           3001   \n",
       "1175                 Tolak             30          Hirat           3001   \n",
       "1176                Ghazni              1          Kabul            101   \n",
       "1177  Hesa-e-Awal-e-Behsud              1          Kabul            101   \n",
       "1178                 Tagab              2         Kapisa            201   \n",
       "\n",
       "     DISP_DIST_NAME DISP_IND DISP_FAM DISP_ADULT_MALE DISP_ADULT_FEMALE  \\\n",
       "1         Jalalabad      217       31              42                45   \n",
       "2           Maymana      931      133             NaN               NaN   \n",
       "3           Maymana      861      123             NaN               NaN   \n",
       "4           Maymana        7        1             NaN               NaN   \n",
       "5           Maymana       28        4             NaN               NaN   \n",
       "...             ...      ...      ...             ...               ...   \n",
       "1174          Hirat      182       26             NaN               NaN   \n",
       "1175          Hirat      154       22             NaN               NaN   \n",
       "1176          Kabul      210       30             NaN               NaN   \n",
       "1177          Kabul      175       25             NaN               NaN   \n",
       "1178  Mahmud-e-Raqi       63        9             NaN               NaN   \n",
       "\n",
       "     DISP_CHILDREN_U18  \n",
       "1                  130  \n",
       "2                  NaN  \n",
       "3                  NaN  \n",
       "4                  NaN  \n",
       "5                  NaN  \n",
       "...                ...  \n",
       "1174               NaN  \n",
       "1175               NaN  \n",
       "1176               NaN  \n",
       "1177               NaN  \n",
       "1178               NaN  \n",
       "\n",
       "[1178 rows x 14 columns]"
      ]
     },
     "execution_count": 3,
     "metadata": {},
     "output_type": "execute_result"
    }
   ],
   "source": [
    "df=df.iloc[1: , :]\n",
    "df"
   ]
  },
  {
   "cell_type": "code",
   "execution_count": 4,
   "metadata": {},
   "outputs": [
    {
     "name": "stdout",
     "output_type": "stream",
     "text": [
      "<class 'pandas.core.frame.DataFrame'>\n",
      "RangeIndex: 1178 entries, 1 to 1178\n",
      "Data columns (total 14 columns):\n",
      " #   Column             Non-Null Count  Dtype \n",
      "---  ------             --------------  ----- \n",
      " 0   DISP_DATE          1178 non-null   object\n",
      " 1   ORIG_PROV_CODE     1178 non-null   object\n",
      " 2   ORIG_PROV_NAME     1178 non-null   object\n",
      " 3   ORIG_DIST_CODE     1176 non-null   object\n",
      " 4   ORIG_DIST_NAME     1177 non-null   object\n",
      " 5   DISP_PROV_CODE     1178 non-null   object\n",
      " 6   DISP_PROV_NAME     1178 non-null   object\n",
      " 7   DISP_DIST_CODE     1178 non-null   object\n",
      " 8   DISP_DIST_NAME     1178 non-null   object\n",
      " 9   DISP_IND           1178 non-null   object\n",
      " 10  DISP_FAM           1178 non-null   object\n",
      " 11  DISP_ADULT_MALE    61 non-null     object\n",
      " 12  DISP_ADULT_FEMALE  61 non-null     object\n",
      " 13  DISP_CHILDREN_U18  61 non-null     object\n",
      "dtypes: object(14)\n",
      "memory usage: 129.0+ KB\n"
     ]
    }
   ],
   "source": [
    "df.info()"
   ]
  },
  {
   "cell_type": "code",
   "execution_count": 5,
   "metadata": {},
   "outputs": [
    {
     "data": {
      "text/html": [
       "<div>\n",
       "<style scoped>\n",
       "    .dataframe tbody tr th:only-of-type {\n",
       "        vertical-align: middle;\n",
       "    }\n",
       "\n",
       "    .dataframe tbody tr th {\n",
       "        vertical-align: top;\n",
       "    }\n",
       "\n",
       "    .dataframe thead th {\n",
       "        text-align: right;\n",
       "    }\n",
       "</style>\n",
       "<table border=\"1\" class=\"dataframe\">\n",
       "  <thead>\n",
       "    <tr style=\"text-align: right;\">\n",
       "      <th></th>\n",
       "      <th>DISP_DATE</th>\n",
       "      <th>ORIG_PROV_CODE</th>\n",
       "      <th>ORIG_PROV_NAME</th>\n",
       "      <th>ORIG_DIST_CODE</th>\n",
       "      <th>ORIG_DIST_NAME</th>\n",
       "      <th>DISP_PROV_CODE</th>\n",
       "      <th>DISP_PROV_NAME</th>\n",
       "      <th>DISP_DIST_CODE</th>\n",
       "      <th>DISP_DIST_NAME</th>\n",
       "      <th>DISP_IND</th>\n",
       "      <th>DISP_FAM</th>\n",
       "      <th>DISP_ADULT_MALE</th>\n",
       "      <th>DISP_ADULT_FEMALE</th>\n",
       "      <th>DISP_CHILDREN_U18</th>\n",
       "    </tr>\n",
       "  </thead>\n",
       "  <tbody>\n",
       "    <tr>\n",
       "      <th>937</th>\n",
       "      <td>26-07-21</td>\n",
       "      <td>30</td>\n",
       "      <td>Hirat</td>\n",
       "      <td>3008</td>\n",
       "      <td>Gulran</td>\n",
       "      <td>30</td>\n",
       "      <td>Hirat</td>\n",
       "      <td>3001</td>\n",
       "      <td>Hirat</td>\n",
       "      <td>203</td>\n",
       "      <td>29</td>\n",
       "      <td>NaN</td>\n",
       "      <td>NaN</td>\n",
       "      <td>NaN</td>\n",
       "    </tr>\n",
       "    <tr>\n",
       "      <th>1163</th>\n",
       "      <td>12-10-21</td>\n",
       "      <td>30</td>\n",
       "      <td>Hirat</td>\n",
       "      <td>3015</td>\n",
       "      <td>Shindand</td>\n",
       "      <td>30</td>\n",
       "      <td>Hirat</td>\n",
       "      <td>3001</td>\n",
       "      <td>Hirat</td>\n",
       "      <td>35</td>\n",
       "      <td>5</td>\n",
       "      <td>NaN</td>\n",
       "      <td>NaN</td>\n",
       "      <td>NaN</td>\n",
       "    </tr>\n",
       "    <tr>\n",
       "      <th>1086</th>\n",
       "      <td>09-09-21</td>\n",
       "      <td>30</td>\n",
       "      <td>Hirat</td>\n",
       "      <td>3003</td>\n",
       "      <td>Kushk</td>\n",
       "      <td>30</td>\n",
       "      <td>Hirat</td>\n",
       "      <td>3001</td>\n",
       "      <td>Hirat</td>\n",
       "      <td>427</td>\n",
       "      <td>61</td>\n",
       "      <td>NaN</td>\n",
       "      <td>NaN</td>\n",
       "      <td>NaN</td>\n",
       "    </tr>\n",
       "    <tr>\n",
       "      <th>955</th>\n",
       "      <td>04-08-21</td>\n",
       "      <td>31</td>\n",
       "      <td>Farah</td>\n",
       "      <td>3106</td>\n",
       "      <td>Qala-e-Kah</td>\n",
       "      <td>31</td>\n",
       "      <td>Farah</td>\n",
       "      <td>3101</td>\n",
       "      <td>Farah</td>\n",
       "      <td>29</td>\n",
       "      <td>5</td>\n",
       "      <td>NaN</td>\n",
       "      <td>NaN</td>\n",
       "      <td>NaN</td>\n",
       "    </tr>\n",
       "    <tr>\n",
       "      <th>440</th>\n",
       "      <td>01-04-21</td>\n",
       "      <td>29</td>\n",
       "      <td>Badghis</td>\n",
       "      <td>2906</td>\n",
       "      <td>Balamurghab</td>\n",
       "      <td>28</td>\n",
       "      <td>Faryab</td>\n",
       "      <td>2801</td>\n",
       "      <td>Maymana</td>\n",
       "      <td>7</td>\n",
       "      <td>1</td>\n",
       "      <td>NaN</td>\n",
       "      <td>NaN</td>\n",
       "      <td>NaN</td>\n",
       "    </tr>\n",
       "    <tr>\n",
       "      <th>916</th>\n",
       "      <td>24-07-21</td>\n",
       "      <td>13</td>\n",
       "      <td>Kunar</td>\n",
       "      <td>1312</td>\n",
       "      <td>Ghaziabad</td>\n",
       "      <td>13</td>\n",
       "      <td>Kunar</td>\n",
       "      <td>1303</td>\n",
       "      <td>Narang</td>\n",
       "      <td>2240</td>\n",
       "      <td>320</td>\n",
       "      <td>NaN</td>\n",
       "      <td>NaN</td>\n",
       "      <td>NaN</td>\n",
       "    </tr>\n",
       "    <tr>\n",
       "      <th>761</th>\n",
       "      <td>28-06-21</td>\n",
       "      <td>7</td>\n",
       "      <td>Laghman</td>\n",
       "      <td>704</td>\n",
       "      <td>Alingar</td>\n",
       "      <td>7</td>\n",
       "      <td>Laghman</td>\n",
       "      <td>701</td>\n",
       "      <td>Mehtarlam / Bad Pash</td>\n",
       "      <td>6566</td>\n",
       "      <td>938</td>\n",
       "      <td>NaN</td>\n",
       "      <td>NaN</td>\n",
       "      <td>NaN</td>\n",
       "    </tr>\n",
       "  </tbody>\n",
       "</table>\n",
       "</div>"
      ],
      "text/plain": [
       "     DISP_DATE ORIG_PROV_CODE ORIG_PROV_NAME ORIG_DIST_CODE ORIG_DIST_NAME  \\\n",
       "937   26-07-21             30          Hirat           3008         Gulran   \n",
       "1163  12-10-21             30          Hirat           3015       Shindand   \n",
       "1086  09-09-21             30          Hirat           3003          Kushk   \n",
       "955   04-08-21             31          Farah           3106     Qala-e-Kah   \n",
       "440   01-04-21             29        Badghis           2906    Balamurghab   \n",
       "916   24-07-21             13          Kunar           1312      Ghaziabad   \n",
       "761   28-06-21              7        Laghman            704        Alingar   \n",
       "\n",
       "     DISP_PROV_CODE DISP_PROV_NAME DISP_DIST_CODE        DISP_DIST_NAME  \\\n",
       "937              30          Hirat           3001                 Hirat   \n",
       "1163             30          Hirat           3001                 Hirat   \n",
       "1086             30          Hirat           3001                 Hirat   \n",
       "955              31          Farah           3101                 Farah   \n",
       "440              28         Faryab           2801               Maymana   \n",
       "916              13          Kunar           1303                Narang   \n",
       "761               7        Laghman            701  Mehtarlam / Bad Pash   \n",
       "\n",
       "     DISP_IND DISP_FAM DISP_ADULT_MALE DISP_ADULT_FEMALE DISP_CHILDREN_U18  \n",
       "937       203       29             NaN               NaN               NaN  \n",
       "1163       35        5             NaN               NaN               NaN  \n",
       "1086      427       61             NaN               NaN               NaN  \n",
       "955        29        5             NaN               NaN               NaN  \n",
       "440         7        1             NaN               NaN               NaN  \n",
       "916      2240      320             NaN               NaN               NaN  \n",
       "761      6566      938             NaN               NaN               NaN  "
      ]
     },
     "execution_count": 5,
     "metadata": {},
     "output_type": "execute_result"
    }
   ],
   "source": [
    "df.sample(7)"
   ]
  },
  {
   "cell_type": "code",
   "execution_count": 6,
   "metadata": {},
   "outputs": [
    {
     "data": {
      "text/html": [
       "<div>\n",
       "<style scoped>\n",
       "    .dataframe tbody tr th:only-of-type {\n",
       "        vertical-align: middle;\n",
       "    }\n",
       "\n",
       "    .dataframe tbody tr th {\n",
       "        vertical-align: top;\n",
       "    }\n",
       "\n",
       "    .dataframe thead th {\n",
       "        text-align: right;\n",
       "    }\n",
       "</style>\n",
       "<table border=\"1\" class=\"dataframe\">\n",
       "  <thead>\n",
       "    <tr style=\"text-align: right;\">\n",
       "      <th></th>\n",
       "      <th>DISP_DATE</th>\n",
       "      <th>ORIG_PROV_CODE</th>\n",
       "      <th>ORIG_PROV_NAME</th>\n",
       "      <th>ORIG_DIST_CODE</th>\n",
       "      <th>ORIG_DIST_NAME</th>\n",
       "      <th>DISP_PROV_CODE</th>\n",
       "      <th>DISP_PROV_NAME</th>\n",
       "      <th>DISP_DIST_CODE</th>\n",
       "      <th>DISP_DIST_NAME</th>\n",
       "      <th>DISP_IND</th>\n",
       "      <th>DISP_FAM</th>\n",
       "      <th>DISP_ADULT_MALE</th>\n",
       "      <th>DISP_ADULT_FEMALE</th>\n",
       "      <th>DISP_CHILDREN_U18</th>\n",
       "    </tr>\n",
       "  </thead>\n",
       "  <tbody>\n",
       "    <tr>\n",
       "      <th>count</th>\n",
       "      <td>1178</td>\n",
       "      <td>1178</td>\n",
       "      <td>1178</td>\n",
       "      <td>1176</td>\n",
       "      <td>1177</td>\n",
       "      <td>1178</td>\n",
       "      <td>1178</td>\n",
       "      <td>1178</td>\n",
       "      <td>1178</td>\n",
       "      <td>1178</td>\n",
       "      <td>1178</td>\n",
       "      <td>61</td>\n",
       "      <td>61</td>\n",
       "      <td>61</td>\n",
       "    </tr>\n",
       "    <tr>\n",
       "      <th>unique</th>\n",
       "      <td>275</td>\n",
       "      <td>33</td>\n",
       "      <td>34</td>\n",
       "      <td>233</td>\n",
       "      <td>227</td>\n",
       "      <td>34</td>\n",
       "      <td>34</td>\n",
       "      <td>99</td>\n",
       "      <td>98</td>\n",
       "      <td>371</td>\n",
       "      <td>240</td>\n",
       "      <td>46</td>\n",
       "      <td>47</td>\n",
       "      <td>49</td>\n",
       "    </tr>\n",
       "    <tr>\n",
       "      <th>top</th>\n",
       "      <td>23-05-21</td>\n",
       "      <td>21</td>\n",
       "      <td>Ghor</td>\n",
       "      <td>2101</td>\n",
       "      <td>Chaghcharan</td>\n",
       "      <td>30</td>\n",
       "      <td>Hirat</td>\n",
       "      <td>3001</td>\n",
       "      <td>Hirat</td>\n",
       "      <td>70</td>\n",
       "      <td>2</td>\n",
       "      <td>2</td>\n",
       "      <td>2</td>\n",
       "      <td>2</td>\n",
       "    </tr>\n",
       "    <tr>\n",
       "      <th>freq</th>\n",
       "      <td>30</td>\n",
       "      <td>145</td>\n",
       "      <td>144</td>\n",
       "      <td>29</td>\n",
       "      <td>29</td>\n",
       "      <td>243</td>\n",
       "      <td>243</td>\n",
       "      <td>175</td>\n",
       "      <td>175</td>\n",
       "      <td>52</td>\n",
       "      <td>69</td>\n",
       "      <td>8</td>\n",
       "      <td>8</td>\n",
       "      <td>6</td>\n",
       "    </tr>\n",
       "  </tbody>\n",
       "</table>\n",
       "</div>"
      ],
      "text/plain": [
       "       DISP_DATE ORIG_PROV_CODE ORIG_PROV_NAME ORIG_DIST_CODE ORIG_DIST_NAME  \\\n",
       "count       1178           1178           1178           1176           1177   \n",
       "unique       275             33             34            233            227   \n",
       "top     23-05-21             21           Ghor           2101    Chaghcharan   \n",
       "freq          30            145            144             29             29   \n",
       "\n",
       "       DISP_PROV_CODE DISP_PROV_NAME DISP_DIST_CODE DISP_DIST_NAME DISP_IND  \\\n",
       "count            1178           1178           1178           1178     1178   \n",
       "unique             34             34             99             98      371   \n",
       "top                30          Hirat           3001          Hirat       70   \n",
       "freq              243            243            175            175       52   \n",
       "\n",
       "       DISP_FAM DISP_ADULT_MALE DISP_ADULT_FEMALE DISP_CHILDREN_U18  \n",
       "count      1178              61                61                61  \n",
       "unique      240              46                47                49  \n",
       "top           2               2                 2                 2  \n",
       "freq         69               8                 8                 6  "
      ]
     },
     "execution_count": 6,
     "metadata": {},
     "output_type": "execute_result"
    }
   ],
   "source": [
    "df.describe()"
   ]
  },
  {
   "cell_type": "code",
   "execution_count": 7,
   "metadata": {},
   "outputs": [
    {
     "data": {
      "text/plain": [
       "DISP_DATE               0\n",
       "ORIG_PROV_CODE          0\n",
       "ORIG_PROV_NAME          0\n",
       "ORIG_DIST_CODE          2\n",
       "ORIG_DIST_NAME          1\n",
       "DISP_PROV_CODE          0\n",
       "DISP_PROV_NAME          0\n",
       "DISP_DIST_CODE          0\n",
       "DISP_DIST_NAME          0\n",
       "DISP_IND                0\n",
       "DISP_FAM                0\n",
       "DISP_ADULT_MALE      1117\n",
       "DISP_ADULT_FEMALE    1117\n",
       "DISP_CHILDREN_U18    1117\n",
       "dtype: int64"
      ]
     },
     "execution_count": 7,
     "metadata": {},
     "output_type": "execute_result"
    }
   ],
   "source": [
    "df.isna().sum()"
   ]
  },
  {
   "cell_type": "code",
   "execution_count": 8,
   "metadata": {},
   "outputs": [
    {
     "data": {
      "text/plain": [
       "(1178, 14)"
      ]
     },
     "execution_count": 8,
     "metadata": {},
     "output_type": "execute_result"
    }
   ],
   "source": [
    "df.shape"
   ]
  },
  {
   "cell_type": "code",
   "execution_count": 9,
   "metadata": {},
   "outputs": [
    {
     "data": {
      "text/plain": [
       "Index(['DISP_DATE', 'ORIG_PROV_CODE', 'ORIG_PROV_NAME', 'ORIG_DIST_CODE',\n",
       "       'ORIG_DIST_NAME', 'DISP_PROV_CODE', 'DISP_PROV_NAME', 'DISP_DIST_CODE',\n",
       "       'DISP_DIST_NAME', 'DISP_IND', 'DISP_FAM', 'DISP_ADULT_MALE',\n",
       "       'DISP_ADULT_FEMALE', 'DISP_CHILDREN_U18'],\n",
       "      dtype='object')"
      ]
     },
     "execution_count": 9,
     "metadata": {},
     "output_type": "execute_result"
    }
   ],
   "source": [
    "df.columns"
   ]
  },
  {
   "cell_type": "code",
   "execution_count": 10,
   "metadata": {},
   "outputs": [],
   "source": [
    "df['ORIG_DIST_NAME'].replace('', np.nan, inplace=True)\n",
    "df.dropna(subset=['ORIG_DIST_NAME'], inplace=True)\n",
    "df['ORIG_DIST_CODE'].replace('', np.nan, inplace=True)\n",
    "df.dropna(subset=['ORIG_DIST_CODE'], inplace=True)\n",
    "df['DISP_ADULT_MALE'].replace('', np.nan, inplace=True)\n",
    "df.dropna(subset=['DISP_ADULT_MALE'], inplace=True)\n",
    "df['DISP_ADULT_FEMALE'].replace('', np.nan, inplace=True)\n",
    "df.dropna(subset=['DISP_ADULT_FEMALE'], inplace=True)\n",
    "df['DISP_CHILDREN_U18'].replace('', np.nan, inplace=True)\n",
    "df.dropna(subset=['DISP_CHILDREN_U18'], inplace=True)"
   ]
  },
  {
   "cell_type": "code",
   "execution_count": 11,
   "metadata": {},
   "outputs": [
    {
     "data": {
      "text/plain": [
       "False"
      ]
     },
     "execution_count": 11,
     "metadata": {},
     "output_type": "execute_result"
    }
   ],
   "source": [
    "df.isnull().any().any()"
   ]
  },
  {
   "cell_type": "code",
   "execution_count": 12,
   "metadata": {},
   "outputs": [
    {
     "data": {
      "text/plain": [
       "DISP_DATE            0\n",
       "ORIG_PROV_CODE       0\n",
       "ORIG_PROV_NAME       0\n",
       "ORIG_DIST_CODE       0\n",
       "ORIG_DIST_NAME       0\n",
       "DISP_PROV_CODE       0\n",
       "DISP_PROV_NAME       0\n",
       "DISP_DIST_CODE       0\n",
       "DISP_DIST_NAME       0\n",
       "DISP_IND             0\n",
       "DISP_FAM             0\n",
       "DISP_ADULT_MALE      0\n",
       "DISP_ADULT_FEMALE    0\n",
       "DISP_CHILDREN_U18    0\n",
       "dtype: int64"
      ]
     },
     "execution_count": 12,
     "metadata": {},
     "output_type": "execute_result"
    }
   ],
   "source": [
    "df.isnull().sum()"
   ]
  },
  {
   "cell_type": "code",
   "execution_count": 13,
   "metadata": {},
   "outputs": [],
   "source": [
    "from sklearn.preprocessing import LabelEncoder\n",
    "le = LabelEncoder()"
   ]
  },
  {
   "cell_type": "code",
   "execution_count": 14,
   "metadata": {},
   "outputs": [],
   "source": [
    "df.ORIG_PROV_NAME = le.fit_transform(df.ORIG_PROV_NAME)\n",
    "df.ORIG_DIST_NAME = le.fit_transform(df.ORIG_DIST_NAME)\n",
    "df.DISP_PROV_NAME = le.fit_transform(df.DISP_PROV_NAME)\n",
    "df.DISP_DIST_NAME = le.fit_transform(df.DISP_DIST_NAME)"
   ]
  },
  {
   "cell_type": "code",
   "execution_count": 15,
   "metadata": {},
   "outputs": [],
   "source": [
    "x = df.drop(['DISP_IND', 'DISP_DATE'], axis = 1)"
   ]
  },
  {
   "cell_type": "code",
   "execution_count": 16,
   "metadata": {},
   "outputs": [],
   "source": [
    "y  = df.DISP_IND"
   ]
  },
  {
   "cell_type": "code",
   "execution_count": 17,
   "metadata": {},
   "outputs": [
    {
     "data": {
      "text/plain": [
       "(61, 12)"
      ]
     },
     "execution_count": 17,
     "metadata": {},
     "output_type": "execute_result"
    }
   ],
   "source": [
    "x.shape"
   ]
  },
  {
   "cell_type": "code",
   "execution_count": 18,
   "metadata": {},
   "outputs": [
    {
     "data": {
      "text/plain": [
       "(61,)"
      ]
     },
     "execution_count": 18,
     "metadata": {},
     "output_type": "execute_result"
    }
   ],
   "source": [
    "y.shape"
   ]
  },
  {
   "cell_type": "code",
   "execution_count": 19,
   "metadata": {},
   "outputs": [],
   "source": [
    "from sklearn.linear_model import LogisticRegression\n",
    "from sklearn.model_selection import train_test_split\n",
    "X_train, X_test, y_train, y_test = train_test_split(x, y, test_size = 0.2)"
   ]
  },
  {
   "cell_type": "code",
   "execution_count": 20,
   "metadata": {},
   "outputs": [
    {
     "name": "stderr",
     "output_type": "stream",
     "text": [
      "c:\\users\\admin\\appdata\\local\\programs\\python\\python38\\lib\\site-packages\\sklearn\\linear_model\\_logistic.py:762: ConvergenceWarning: lbfgs failed to converge (status=1):\n",
      "STOP: TOTAL NO. of ITERATIONS REACHED LIMIT.\n",
      "\n",
      "Increase the number of iterations (max_iter) or scale the data as shown in:\n",
      "    https://scikit-learn.org/stable/modules/preprocessing.html\n",
      "Please also refer to the documentation for alternative solver options:\n",
      "    https://scikit-learn.org/stable/modules/linear_model.html#logistic-regression\n",
      "  n_iter_i = _check_optimize_result(\n"
     ]
    },
    {
     "data": {
      "text/plain": [
       "LogisticRegression()"
      ]
     },
     "execution_count": 20,
     "metadata": {},
     "output_type": "execute_result"
    }
   ],
   "source": [
    "model = LogisticRegression()\n",
    "model.fit(X_train, y_train)"
   ]
  },
  {
   "cell_type": "code",
   "execution_count": 21,
   "metadata": {},
   "outputs": [],
   "source": [
    "y_pred = model.predict(X_test)"
   ]
  },
  {
   "cell_type": "code",
   "execution_count": 22,
   "metadata": {},
   "outputs": [
    {
     "name": "stdout",
     "output_type": "stream",
     "text": [
      "Training Accuracy : 0.6666666666666666\n",
      "Testing Accuracy : 0.07692307692307693\n"
     ]
    }
   ],
   "source": [
    "print(\"Training Accuracy :\", model.score(X_train, y_train))\n",
    "print(\"Testing Accuracy :\", model.score(X_test, y_test))"
   ]
  },
  {
   "cell_type": "code",
   "execution_count": 23,
   "metadata": {},
   "outputs": [],
   "source": [
    "from sklearn.linear_model import LinearRegression\n",
    "from sklearn.model_selection import train_test_split\n",
    "X_train, X_test, y_train, y_test = train_test_split(x, y, test_size = 0.2)"
   ]
  },
  {
   "cell_type": "code",
   "execution_count": 24,
   "metadata": {},
   "outputs": [
    {
     "data": {
      "text/plain": [
       "LinearRegression()"
      ]
     },
     "execution_count": 24,
     "metadata": {},
     "output_type": "execute_result"
    }
   ],
   "source": [
    "model1 = LinearRegression()\n",
    "model1.fit(X_train, y_train)"
   ]
  },
  {
   "cell_type": "code",
   "execution_count": 25,
   "metadata": {},
   "outputs": [],
   "source": [
    "y_pred = model1.predict(X_test)"
   ]
  },
  {
   "cell_type": "code",
   "execution_count": 26,
   "metadata": {},
   "outputs": [
    {
     "name": "stdout",
     "output_type": "stream",
     "text": [
      "Training Accuracy : 0.9999431716625156\n",
      "Testing Accuracy : 0.9999670822647164\n"
     ]
    }
   ],
   "source": [
    "print(\"Training Accuracy :\", model1.score(X_train, y_train))\n",
    "print(\"Testing Accuracy :\", model1.score(X_test, y_test))"
   ]
  },
  {
   "cell_type": "code",
   "execution_count": 27,
   "metadata": {},
   "outputs": [],
   "source": [
    "from sklearn.tree import DecisionTreeRegressor\n",
    "from sklearn.model_selection import train_test_split\n",
    "X_train, X_test, y_train, y_test = train_test_split(x, y, test_size = 0.2)"
   ]
  },
  {
   "cell_type": "code",
   "execution_count": 28,
   "metadata": {},
   "outputs": [
    {
     "data": {
      "text/plain": [
       "DecisionTreeRegressor(max_depth=6)"
      ]
     },
     "execution_count": 28,
     "metadata": {},
     "output_type": "execute_result"
    }
   ],
   "source": [
    "model3 = DecisionTreeRegressor(max_depth=6)\n",
    "model3.fit(X_train, y_train)"
   ]
  },
  {
   "cell_type": "code",
   "execution_count": 29,
   "metadata": {},
   "outputs": [],
   "source": [
    "y_pred = model3.predict(X_test)"
   ]
  },
  {
   "cell_type": "code",
   "execution_count": 30,
   "metadata": {},
   "outputs": [
    {
     "name": "stdout",
     "output_type": "stream",
     "text": [
      "Training Accuracy : 0.9999883089865537\n",
      "Testing Accuracy : 0.8695602906122368\n"
     ]
    }
   ],
   "source": [
    "print(\"Training Accuracy :\", model3.score(X_train, y_train))\n",
    "print(\"Testing Accuracy :\", model3.score(X_test, y_test))"
   ]
  },
  {
   "cell_type": "code",
   "execution_count": 31,
   "metadata": {},
   "outputs": [],
   "source": [
    "from sklearn.ensemble import RandomForestRegressor\n",
    "from sklearn.model_selection import train_test_split\n",
    "X_train, X_test, y_train, y_test = train_test_split(x, y, test_size = 0.2)"
   ]
  },
  {
   "cell_type": "code",
   "execution_count": 32,
   "metadata": {},
   "outputs": [
    {
     "data": {
      "text/plain": [
       "RandomForestRegressor(random_state=0)"
      ]
     },
     "execution_count": 32,
     "metadata": {},
     "output_type": "execute_result"
    }
   ],
   "source": [
    "model4 = RandomForestRegressor(n_estimators = 100, random_state = 0)\n",
    "model4.fit(X_train, y_train)"
   ]
  },
  {
   "cell_type": "code",
   "execution_count": 33,
   "metadata": {},
   "outputs": [],
   "source": [
    "y_pred = model4.predict(X_test)"
   ]
  },
  {
   "cell_type": "code",
   "execution_count": 34,
   "metadata": {},
   "outputs": [
    {
     "name": "stdout",
     "output_type": "stream",
     "text": [
      "Training Accuracy : 0.9535538542341153\n",
      "Testing Accuracy : 0.8195734522791165\n"
     ]
    }
   ],
   "source": [
    "print(\"Training Accuracy :\", model4.score(X_train, y_train))\n",
    "print(\"Testing Accuracy :\", model4.score(X_test, y_test))"
   ]
  },
  {
   "cell_type": "code",
   "execution_count": 35,
   "metadata": {},
   "outputs": [],
   "source": [
    "import scikitplot as skplt\n",
    "import warnings\n",
    "import missingno as msno\n",
    "from pingouin import plot_blandaltman\n",
    "warnings.filterwarnings('ignore')"
   ]
  },
  {
   "cell_type": "code",
   "execution_count": 36,
   "metadata": {},
   "outputs": [
    {
     "data": {
      "image/png": "[encoded data removed]",
      "text/plain": [
       "<Figure size 1728x720 with 3 Axes>"
      ]
     },
     "metadata": {
      "needs_background": "light"
     },
     "output_type": "display_data"
    }
   ],
   "source": [
    "msno.bar(df,color='lightblue')\n",
    "plt.show()"
   ]
  },
  {
   "cell_type": "code",
   "execution_count": 37,
   "metadata": {},
   "outputs": [
    {
     "data": {
      "text/plain": [
       "<seaborn.axisgrid.PairGrid at 0x2235430f160>"
      ]
     },
     "execution_count": 37,
     "metadata": {},
     "output_type": "execute_result"
    },
    {
     "data": {
      "image/png": "[encoded data removed]",
      "text/plain": [
       "<Figure size 720x720 with 20 Axes>"
      ]
     },
     "metadata": {
      "needs_background": "light"
     },
     "output_type": "display_data"
    }
   ],
   "source": [
    "sns.pairplot(df)"
   ]
  },
  {
   "cell_type": "markdown",
   "metadata": {},
   "source": [
    "# Thank You"
   ]
  }
 ],
 "metadata": {
  "kernelspec": {
   "display_name": "Python 3",
   "language": "python",
   "name": "python3"
  },
  "language_info": {
   "codemirror_mode": {
    "name": "ipython",
    "version": 3
   },
   "file_extension": ".py",
   "mimetype": "text/x-python",
   "name": "python",
   "nbconvert_exporter": "python",
   "pygments_lexer": "ipython3",
   "version": "3.8.1"
  }
 },
 "nbformat": 4,
 "nbformat_minor": 4
}
